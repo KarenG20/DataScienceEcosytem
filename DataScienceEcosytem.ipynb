{
 "cells": [
  {
   "cell_type": "markdown",
   "id": "4ad69c9c",
   "metadata": {},
   "source": [
    "# Data Science Tools and Ecosystem"
   ]
  },
  {
   "cell_type": "markdown",
   "id": "4a3f8546",
   "metadata": {},
   "source": [
    "_In this notebook, Data Science Tools and Ecosystem are summarized._"
   ]
  },
  {
   "cell_type": "markdown",
   "id": "04de2736",
   "metadata": {},
   "source": [
    "**Objectives:**\n",
    "\n",
    "    * List languanges for Data Science\n",
    "    * List commonly libraries used by Data Sicence\n",
    "    * List Data Science Tools open source\n",
    "    * Example arithmetic expressions basic in language Python"
   ]
  },
  {
   "cell_type": "markdown",
   "id": "88f341a7",
   "metadata": {},
   "source": [
    " Some of the popular language that Data Scientist use are:\n",
    "\n",
    "    1. Phyton\n",
    "    2. R\n",
    "    3. SQL\n",
    "    4. Java\n",
    "    5. Scala\n",
    "    6. Julia\n",
    "    7. Javascript    "
   ]
  },
  {
   "cell_type": "markdown",
   "id": "8fbc19cf",
   "metadata": {},
   "source": [
    " Some of the commonly used libraries used by Data Scientes include\n",
    "\n",
    "     1. NumPy\n",
    "     2. Pandas\n",
    "     3. Matplotlib\n",
    "     4. Seaborn"
   ]
  },
  {
   "cell_type": "markdown",
   "id": "64ea278f",
   "metadata": {},
   "source": [
    "| Data Sciene Tools |\n",
    "| ----------------- |\n",
    "| Jupyter Notebooks |\n",
    "| Jupyter Lab |\n",
    "| Zeepelin |\n",
    "| RStudio |\n",
    "| APache Spark |\n",
    "| Knime |\n",
    "| Git hub |"
   ]
  },
  {
   "cell_type": "markdown",
   "id": "9b695805",
   "metadata": {},
   "source": [
    "### Below are a few examples of evaluating arithmetic expressions in Python"
   ]
  },
  {
   "cell_type": "code",
   "execution_count": 2,
   "id": "00814f8a",
   "metadata": {},
   "outputs": [
    {
     "data": {
      "text/plain": [
       "17"
      ]
     },
     "execution_count": 2,
     "metadata": {},
     "output_type": "execute_result"
    }
   ],
   "source": [
    "# This a simple arithmetic expression to mutiply the add integers\n",
    "(3*4)+5"
   ]
  },
  {
   "cell_type": "code",
   "execution_count": 11,
   "id": "4ad8cc74",
   "metadata": {},
   "outputs": [
    {
     "data": {
      "text/plain": [
       "3.3333333333333335"
      ]
     },
     "execution_count": 11,
     "metadata": {},
     "output_type": "execute_result"
    }
   ],
   "source": [
    "# This will convert 200 minutes to hours by diving by 60\n",
    "200/60"
   ]
  },
  {
   "cell_type": "markdown",
   "id": "b9198d32",
   "metadata": {},
   "source": [
    "\n",
    "## Author\n",
    "Karen Gómez"
   ]
  },
  {
   "cell_type": "code",
   "execution_count": null,
   "id": "386da22c",
   "metadata": {},
   "outputs": [],
   "source": []
  }
 ],
 "metadata": {
  "kernelspec": {
   "display_name": "Python 3 (ipykernel)",
   "language": "python",
   "name": "python3"
  },
  "language_info": {
   "codemirror_mode": {
    "name": "ipython",
    "version": 3
   },
   "file_extension": ".py",
   "mimetype": "text/x-python",
   "name": "python",
   "nbconvert_exporter": "python",
   "pygments_lexer": "ipython3",
   "version": "3.11.5"
  }
 },
 "nbformat": 4,
 "nbformat_minor": 5
}
